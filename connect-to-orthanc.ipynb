{
 "cells": [
  {
   "cell_type": "code",
   "execution_count": 1,
   "metadata": {},
   "outputs": [],
   "source": [
    "%load_ext autoreload\n",
    "%autoreload 2\n"
   ]
  },
  {
   "cell_type": "code",
   "execution_count": 13,
   "metadata": {},
   "outputs": [],
   "source": [
    "from pyorthanc import Orthanc\n",
    "\n",
    "from pynetdicom import AE\n",
    "\n",
    "from datetime import datetime\n",
    "import pandas as pd\n",
    "# from pynetdicom.sop_class import VerificationSOPClass\n"
   ]
  },
  {
   "cell_type": "code",
   "execution_count": 3,
   "metadata": {},
   "outputs": [],
   "source": [
    "orthanc = Orthanc('http://localhost:8042', username='sansiddh', password='sansiddh')"
   ]
  },
  {
   "cell_type": "code",
   "execution_count": 4,
   "metadata": {},
   "outputs": [],
   "source": [
    "patients_identifiers = orthanc.get_patients()"
   ]
  },
  {
   "cell_type": "code",
   "execution_count": 5,
   "metadata": {},
   "outputs": [
    {
     "data": {
      "text/plain": [
       "['849eace8-32e38022-46638796-c5ce3db3-564ebf0c',\n",
       " 'd85431f3-fbd164e1-cad11cda-32c8d251-3d699720',\n",
       " 'a06d14ff-aca387f0-11dbd7b2-73a84b66-1a010167']"
      ]
     },
     "execution_count": 5,
     "metadata": {},
     "output_type": "execute_result"
    }
   ],
   "source": [
    "orthanc.get_studies()"
   ]
  },
  {
   "cell_type": "code",
   "execution_count": 6,
   "metadata": {},
   "outputs": [
    {
     "data": {
      "text/plain": [
       "['f0483f25-5e0ce2c9-3d5dfa59-3f2161b2-66474869',\n",
       " '6638c66d-21c29e31-0ad2ae41-4c97a032-4a4922a4',\n",
       " 'c05f7247-7ba4085a-b2882973-d427ff67-c8ae9df4']"
      ]
     },
     "execution_count": 6,
     "metadata": {},
     "output_type": "execute_result"
    }
   ],
   "source": [
    "patients_identifiers\n"
   ]
  },
  {
   "cell_type": "code",
   "execution_count": 7,
   "metadata": {},
   "outputs": [
    {
     "name": "stdout",
     "output_type": "stream",
     "text": [
      "{'ID': 'f0483f25-5e0ce2c9-3d5dfa59-3f2161b2-66474869', 'IsStable': True, 'Labels': [], 'LastUpdate': '20230418T083419', 'MainDicomTags': {'PatientBirthDate': '19780307', 'PatientID': '543', 'PatientName': 'DILIP KENDRE 45Y/M', 'PatientSex': 'M'}, 'Studies': ['849eace8-32e38022-46638796-c5ce3db3-564ebf0c'], 'Type': 'Patient'}\n",
      "{'ID': '849eace8-32e38022-46638796-c5ce3db3-564ebf0c', 'IsStable': True, 'Labels': [], 'LastUpdate': '20230418T083419', 'MainDicomTags': {'AccessionNumber': '', 'InstitutionName': 'GLOBAL DIAGNOSTIC CENTER', 'ReferringPhysicianName': 'GLOBAL HOSPITAL ICU', 'RequestedProcedureDescription': 'GLOBAL BRAIN', 'StudyDate': '20230307', 'StudyDescription': 'GLOBAL^BRAIN', 'StudyID': '1', 'StudyInstanceUID': '1.3.12.2.1107.5.2.6.23201.30000023030704490101500000007', 'StudyTime': '160506.359000'}, 'ParentPatient': 'f0483f25-5e0ce2c9-3d5dfa59-3f2161b2-66474869', 'PatientMainDicomTags': {'PatientBirthDate': '19780307', 'PatientID': '543', 'PatientName': 'DILIP KENDRE 45Y/M', 'PatientSex': 'M'}, 'Series': ['ebba4295-bb0663f1-524548d9-be164fdb-6bbbab5d', 'ce9a689d-3a4e2fa0-97273553-953453a0-c5c13184', 'f50f1b85-df213043-f62b446f-c1532ae4-5c19a76e', '10bd3fba-ae574ced-dc6d54c2-b5d6c7e0-2915768f', 'fbf7c6fd-9c0f79ef-fb6320bc-dbfd25a6-600f68cc', '38f91535-5856c4f5-aeaf0b18-da13a4cb-d5e4e461', '9d309021-1bd102ac-4ee75890-a61488f4-9c446edc', '4eeb67ec-9079f4ef-b5a16891-9ed6722d-f776786d', 'df118fd0-ee4ee2c8-7ac1f6d5-eaf0afb6-4aef3fb2', '51c1f443-fe0e63d9-6943fca0-b5f90dd5-038b7a51', '54daba1c-e1481703-8723e413-c4267d2a-827be260', '58e6d208-be3e9ead-abcc70f7-f998fabc-27cd6fc7', 'a9049d9d-f99b26b7-22cf8de9-9059aeb4-b85a9f54'], 'Type': 'Study'}\n",
      "{'ID': '6638c66d-21c29e31-0ad2ae41-4c97a032-4a4922a4', 'IsStable': True, 'Labels': [], 'LastUpdate': '20230418T174323', 'MainDicomTags': {'PatientBirthDate': '', 'PatientID': 'CT 1081', 'PatientName': 'JYOTIBAI WARNI', 'PatientSex': 'F'}, 'Studies': ['d85431f3-fbd164e1-cad11cda-32c8d251-3d699720'], 'Type': 'Patient'}\n",
      "{'ID': 'd85431f3-fbd164e1-cad11cda-32c8d251-3d699720', 'IsStable': True, 'Labels': [], 'LastUpdate': '20230418T174323', 'MainDicomTags': {'AccessionNumber': 'DR BHEDE', 'InstitutionName': 'sunrise global  hospital', 'ReferringPhysicianName': 'DR BHEDE', 'StudyDate': '20220701', 'StudyDescription': 'BRAIN', 'StudyID': '1030', 'StudyInstanceUID': '1.2.840.113619.2.55.3.2831172865.205.1656652007.49', 'StudyTime': '111432'}, 'ParentPatient': '6638c66d-21c29e31-0ad2ae41-4c97a032-4a4922a4', 'PatientMainDicomTags': {'PatientBirthDate': '', 'PatientID': 'CT 1081', 'PatientName': 'JYOTIBAI WARNI', 'PatientSex': 'F'}, 'Series': ['82d17141-91060524-e5003796-3314b4fd-6e2ba562', '0ad4b5a4-5427b567-13b7253e-ee184068-6c30376c', '4ca427d3-66245fe4-1a9967c0-108ac760-6fb44cc6', '21d12bc7-0d5c74dc-79ff31a8-7c16a708-62506415'], 'Type': 'Study'}\n",
      "{'ID': 'c05f7247-7ba4085a-b2882973-d427ff67-c8ae9df4', 'IsStable': True, 'Labels': [], 'LastUpdate': '20230418T174639', 'MainDicomTags': {'PatientBirthDate': '', 'PatientID': 'CT 1661', 'PatientName': 'ALOK KONDAPPA', 'PatientSex': 'M'}, 'Studies': ['a06d14ff-aca387f0-11dbd7b2-73a84b66-1a010167'], 'Type': 'Patient'}\n",
      "{'ID': 'a06d14ff-aca387f0-11dbd7b2-73a84b66-1a010167', 'IsStable': True, 'Labels': [], 'LastUpdate': '20230418T174639', 'MainDicomTags': {'AccessionNumber': 'DR.BHEDE', 'InstitutionName': 'sunrise global  hospital', 'ReferringPhysicianName': 'DR.BHEDE', 'StudyDate': '20221114', 'StudyDescription': 'BRAIN', 'StudyID': '1797', 'StudyInstanceUID': '1.2.840.113619.2.55.3.2831172865.225.1668393337.699', 'StudyTime': '125103'}, 'ParentPatient': 'c05f7247-7ba4085a-b2882973-d427ff67-c8ae9df4', 'PatientMainDicomTags': {'PatientBirthDate': '', 'PatientID': 'CT 1661', 'PatientName': 'ALOK KONDAPPA', 'PatientSex': 'M'}, 'Series': ['ef679c5a-6fd25e7a-6e84d83c-f759c96e-8ec80a42', 'd72b1a82-5358bfdf-003ee242-fe2fb5e2-5abf19b0', 'f8d0797d-b799aa70-1d666725-a1b2e695-eac44edf', '86e3d58d-f2cc4cac-a932b833-a6bfce48-96e318dd'], 'Type': 'Study'}\n"
     ]
    }
   ],
   "source": [
    "for patient_identifier in patients_identifiers:\n",
    "   patient_info = orthanc.get_patients_id(patient_identifier)\n",
    "   print(patient_info)\n",
    "   patient_name = patient_info['MainDicomTags']['PatientName']\n",
    "   study_identifiers = patient_info['Studies']\n",
    "   print(orthanc.get_studies_id(study_identifiers[0]))"
   ]
  },
  {
   "cell_type": "code",
   "execution_count": 8,
   "metadata": {},
   "outputs": [],
   "source": [
    "studies = orthanc.get_studies()"
   ]
  },
  {
   "cell_type": "code",
   "execution_count": 9,
   "metadata": {},
   "outputs": [
    {
     "name": "stdout",
     "output_type": "stream",
     "text": [
      "{'ID': '849eace8-32e38022-46638796-c5ce3db3-564ebf0c', 'IsStable': True, 'Labels': [], 'LastUpdate': '20230418T083419', 'MainDicomTags': {'AccessionNumber': '', 'InstitutionName': 'GLOBAL DIAGNOSTIC CENTER', 'ReferringPhysicianName': 'GLOBAL HOSPITAL ICU', 'RequestedProcedureDescription': 'GLOBAL BRAIN', 'StudyDate': '20230307', 'StudyDescription': 'GLOBAL^BRAIN', 'StudyID': '1', 'StudyInstanceUID': '1.3.12.2.1107.5.2.6.23201.30000023030704490101500000007', 'StudyTime': '160506.359000'}, 'ParentPatient': 'f0483f25-5e0ce2c9-3d5dfa59-3f2161b2-66474869', 'PatientMainDicomTags': {'PatientBirthDate': '19780307', 'PatientID': '543', 'PatientName': 'DILIP KENDRE 45Y/M', 'PatientSex': 'M'}, 'Series': ['ebba4295-bb0663f1-524548d9-be164fdb-6bbbab5d', 'ce9a689d-3a4e2fa0-97273553-953453a0-c5c13184', 'f50f1b85-df213043-f62b446f-c1532ae4-5c19a76e', '10bd3fba-ae574ced-dc6d54c2-b5d6c7e0-2915768f', 'fbf7c6fd-9c0f79ef-fb6320bc-dbfd25a6-600f68cc', '38f91535-5856c4f5-aeaf0b18-da13a4cb-d5e4e461', '9d309021-1bd102ac-4ee75890-a61488f4-9c446edc', '4eeb67ec-9079f4ef-b5a16891-9ed6722d-f776786d', 'df118fd0-ee4ee2c8-7ac1f6d5-eaf0afb6-4aef3fb2', '51c1f443-fe0e63d9-6943fca0-b5f90dd5-038b7a51', '54daba1c-e1481703-8723e413-c4267d2a-827be260', '58e6d208-be3e9ead-abcc70f7-f998fabc-27cd6fc7', 'a9049d9d-f99b26b7-22cf8de9-9059aeb4-b85a9f54'], 'Type': 'Study'}\n",
      "1.3.12.2.1107.5.2.6.23201.30000023030704490101500000007\n",
      "20230418T083419\n",
      "DILIP KENDRE 45Y/M\n",
      "M\n",
      "GLOBAL DIAGNOSTIC CENTER\n",
      "{'ID': 'd85431f3-fbd164e1-cad11cda-32c8d251-3d699720', 'IsStable': True, 'Labels': [], 'LastUpdate': '20230418T174323', 'MainDicomTags': {'AccessionNumber': 'DR BHEDE', 'InstitutionName': 'sunrise global  hospital', 'ReferringPhysicianName': 'DR BHEDE', 'StudyDate': '20220701', 'StudyDescription': 'BRAIN', 'StudyID': '1030', 'StudyInstanceUID': '1.2.840.113619.2.55.3.2831172865.205.1656652007.49', 'StudyTime': '111432'}, 'ParentPatient': '6638c66d-21c29e31-0ad2ae41-4c97a032-4a4922a4', 'PatientMainDicomTags': {'PatientBirthDate': '', 'PatientID': 'CT 1081', 'PatientName': 'JYOTIBAI WARNI', 'PatientSex': 'F'}, 'Series': ['82d17141-91060524-e5003796-3314b4fd-6e2ba562', '0ad4b5a4-5427b567-13b7253e-ee184068-6c30376c', '4ca427d3-66245fe4-1a9967c0-108ac760-6fb44cc6', '21d12bc7-0d5c74dc-79ff31a8-7c16a708-62506415'], 'Type': 'Study'}\n",
      "1.2.840.113619.2.55.3.2831172865.205.1656652007.49\n",
      "20230418T174323\n",
      "JYOTIBAI WARNI\n",
      "F\n",
      "sunrise global  hospital\n",
      "{'ID': 'a06d14ff-aca387f0-11dbd7b2-73a84b66-1a010167', 'IsStable': True, 'Labels': [], 'LastUpdate': '20230418T174639', 'MainDicomTags': {'AccessionNumber': 'DR.BHEDE', 'InstitutionName': 'sunrise global  hospital', 'ReferringPhysicianName': 'DR.BHEDE', 'StudyDate': '20221114', 'StudyDescription': 'BRAIN', 'StudyID': '1797', 'StudyInstanceUID': '1.2.840.113619.2.55.3.2831172865.225.1668393337.699', 'StudyTime': '125103'}, 'ParentPatient': 'c05f7247-7ba4085a-b2882973-d427ff67-c8ae9df4', 'PatientMainDicomTags': {'PatientBirthDate': '', 'PatientID': 'CT 1661', 'PatientName': 'ALOK KONDAPPA', 'PatientSex': 'M'}, 'Series': ['ef679c5a-6fd25e7a-6e84d83c-f759c96e-8ec80a42', 'd72b1a82-5358bfdf-003ee242-fe2fb5e2-5abf19b0', 'f8d0797d-b799aa70-1d666725-a1b2e695-eac44edf', '86e3d58d-f2cc4cac-a932b833-a6bfce48-96e318dd'], 'Type': 'Study'}\n",
      "1.2.840.113619.2.55.3.2831172865.225.1668393337.699\n",
      "20230418T174639\n",
      "ALOK KONDAPPA\n",
      "M\n",
      "sunrise global  hospital\n"
     ]
    }
   ],
   "source": [
    "\n",
    "for study in studies:\n",
    "    study_info = orthanc.get_studies_id(study)\n",
    "    print(study_info)\n",
    "    print(study_info['MainDicomTags']['StudyInstanceUID'])\n",
    "    print(study_info['LastUpdate'])\n",
    "\n",
    "    print(study_info['PatientMainDicomTags']['PatientName'])\n",
    "    print(study_info['PatientMainDicomTags']['PatientSex'])\n",
    "    print(study_info['MainDicomTags']['InstitutionName'])\n"
   ]
  },
  {
   "cell_type": "code",
   "execution_count": 24,
   "metadata": {},
   "outputs": [
    {
     "data": {
      "text/plain": [
       "('20221114', '125103')"
      ]
     },
     "execution_count": 24,
     "metadata": {},
     "output_type": "execute_result"
    }
   ],
   "source": [
    "study_date = study_info['MainDicomTags']['StudyDate']\n",
    "study_time = study_info['MainDicomTags']['StudyTime']\n",
    "study_date, study_time\n"
   ]
  },
  {
   "cell_type": "code",
   "execution_count": 29,
   "metadata": {},
   "outputs": [],
   "source": [
    "sdate = datetime.strptime(study_date, '%Y%m%d')\n",
    "stime = datetime.strptime(study_time, '%H%M%S')\n"
   ]
  },
  {
   "cell_type": "code",
   "execution_count": 33,
   "metadata": {},
   "outputs": [],
   "source": [
    "sdate = sdate.replace(hour=stime.hour, minute=stime.minute, second=stime.second)"
   ]
  },
  {
   "cell_type": "code",
   "execution_count": 34,
   "metadata": {},
   "outputs": [
    {
     "data": {
      "text/plain": [
       "'12:51, Nov 14, 2022'"
      ]
     },
     "execution_count": 34,
     "metadata": {},
     "output_type": "execute_result"
    }
   ],
   "source": [
    "sdate.strftime(\"%H:%M, %b %d, %Y\")\n"
   ]
  },
  {
   "cell_type": "code",
   "execution_count": 21,
   "metadata": {},
   "outputs": [],
   "source": [
    "with open('studies.txt', 'w') as f:\n",
    "    for study in studies:\n",
    "        f.write(f\"{study}\\n\")"
   ]
  },
  {
   "cell_type": "code",
   "execution_count": 24,
   "metadata": {},
   "outputs": [],
   "source": [
    "with open('studies.txt', 'r') as f:\n",
    "    lines = [line.strip() for line in f]"
   ]
  },
  {
   "cell_type": "code",
   "execution_count": 25,
   "metadata": {},
   "outputs": [
    {
     "data": {
      "text/plain": [
       "['849eace8-32e38022-46638796-c5ce3db3-564ebf0c',\n",
       " 'd85431f3-fbd164e1-cad11cda-32c8d251-3d699720',\n",
       " 'a06d14ff-aca387f0-11dbd7b2-73a84b66-1a010167']"
      ]
     },
     "execution_count": 25,
     "metadata": {},
     "output_type": "execute_result"
    }
   ],
   "source": [
    "lines\n"
   ]
  },
  {
   "cell_type": "code",
   "execution_count": null,
   "metadata": {},
   "outputs": [],
   "source": []
  }
 ],
 "metadata": {
  "kernelspec": {
   "display_name": "training",
   "language": "python",
   "name": "python3"
  },
  "language_info": {
   "codemirror_mode": {
    "name": "ipython",
    "version": 3
   },
   "file_extension": ".py",
   "mimetype": "text/x-python",
   "name": "python",
   "nbconvert_exporter": "python",
   "pygments_lexer": "ipython3",
   "version": "3.9.12"
  },
  "orig_nbformat": 4
 },
 "nbformat": 4,
 "nbformat_minor": 2
}
